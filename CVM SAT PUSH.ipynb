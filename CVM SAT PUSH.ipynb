{
 "cells": [
  {
   "cell_type": "markdown",
   "id": "429e841f",
   "metadata": {},
   "source": [
    "<h1>AUTOMATIZACIÓN CONSOLIDADO SAT PUSH EXPERIENCIA<h1>"
   ]
  },
  {
   "cell_type": "code",
   "execution_count": 1,
   "id": "1a0abf08",
   "metadata": {},
   "outputs": [],
   "source": [
    "import pandas as pd\n",
    "import os\n",
    "import glob\n",
    "import re"
   ]
  },
  {
   "cell_type": "code",
   "execution_count": 2,
   "id": "c8b7909c",
   "metadata": {},
   "outputs": [],
   "source": [
    "mes_anterior_num = \"05\"\n",
    "mes_anterior_str = \"Mayo\""
   ]
  },
  {
   "cell_type": "code",
   "execution_count": 6,
   "id": "8e20bd1e",
   "metadata": {},
   "outputs": [],
   "source": [
    "carpeta_excel = f'C:/Users/BBARTOLOMEE/OneDrive - Entel Peru S.A/03. Programación Diaria Comunicaciones/02. Bases Satpush (CVM)/2025/{mes_anterior_num}. {mes_anterior_str}'\n",
    "archivos_excel = glob.glob(os.path.join(carpeta_excel, '*.xlsx'))\n",
    "\n",
    "dataframes_excel = []"
   ]
  },
  {
   "cell_type": "code",
   "execution_count": 7,
   "id": "99fc0477",
   "metadata": {},
   "outputs": [],
   "source": [
    "for archivo in archivos_excel:\n",
    "    try:\n",
    "        df = pd.read_excel(archivo)\n",
    "        nombre_archivo = os.path.basename(archivo).replace('.xlsx', '')\n",
    "        df['archivo'] = nombre_archivo\n",
    "        dataframes_excel.append(df)\n",
    "    except Exception as e:\n",
    "        print(f\"Error leyendo {archivo}: {e}\")\n",
    "\n",
    "df_consolidado = pd.concat(dataframes_excel, ignore_index=True)"
   ]
  },
  {
   "cell_type": "code",
   "execution_count": null,
   "id": "60b1ae53",
   "metadata": {},
   "outputs": [],
   "source": [
    "df_consolidado"
   ]
  },
  {
   "cell_type": "markdown",
   "id": "cae0384e",
   "metadata": {},
   "source": [
    "<h3>BASE RUCS<h3>"
   ]
  },
  {
   "cell_type": "code",
   "execution_count": null,
   "id": "98bd0968",
   "metadata": {},
   "outputs": [],
   "source": [
    "carpeta_rucs = f'C:/Users/BBARTOLOMEE/OneDrive - Entel Peru S.A/03. Programación Diaria Comunicaciones/02. Bases Satpush (CVM)/2025/RUC {mes_anterior_str}.xlsx'"
   ]
  },
  {
   "cell_type": "code",
   "execution_count": null,
   "id": "05766cdf",
   "metadata": {},
   "outputs": [],
   "source": [
    "df_base_ruc = pd.read_excel(carpeta_rucs)\n",
    "df_base_ruc.drop_duplicates(subset='TELEFONO')"
   ]
  },
  {
   "cell_type": "code",
   "execution_count": 11,
   "id": "6a4f9255",
   "metadata": {},
   "outputs": [],
   "source": [
    "df_merge = pd.merge(df_consolidado, df_base_ruc, on='TELEFONO', how='left')"
   ]
  },
  {
   "cell_type": "code",
   "execution_count": 12,
   "id": "b52ca4aa",
   "metadata": {},
   "outputs": [],
   "source": [
    "df_merge['nombre_base'] = df_merge['archivo'].str.extract(r'_(?:.*?)_(.*)$')\n",
    "df_merge['FECHA'] = pd.to_datetime(df_merge['archivo'].str[:8], format='%Y%m%d')\n",
    "df_merge['FECHA'] = df_merge['FECHA'].dt.strftime('%d-%m-%Y')"
   ]
  },
  {
   "cell_type": "code",
   "execution_count": null,
   "id": "25e471b0",
   "metadata": {},
   "outputs": [],
   "source": [
    "df_merge"
   ]
  },
  {
   "cell_type": "code",
   "execution_count": null,
   "id": "9d08c9c3",
   "metadata": {},
   "outputs": [],
   "source": [
    "#df_nombre = df_merge[['nombre_base']].drop_duplicates()\n",
    "#df_nombre.to_excel('base_campaña.xlsx',index = False)"
   ]
  },
  {
   "cell_type": "markdown",
   "id": "07991b21",
   "metadata": {},
   "source": [
    "<h3>BASE CAMPAÑAS<h3>"
   ]
  },
  {
   "cell_type": "code",
   "execution_count": 14,
   "id": "075d85e0",
   "metadata": {},
   "outputs": [],
   "source": [
    "base_campaña = pd.read_excel('base_campaña.xlsx')\n",
    "base_final_1 = pd.merge(df_merge, base_campaña, on = 'nombre_base', how='left')"
   ]
  },
  {
   "cell_type": "code",
   "execution_count": 15,
   "id": "085769f8",
   "metadata": {},
   "outputs": [],
   "source": [
    "base_final_1[['TIPO']] = 'SAT PUSH'\n",
    "base_final_1[['OWNER']] = 'CVM'"
   ]
  },
  {
   "cell_type": "code",
   "execution_count": 16,
   "id": "4af14811",
   "metadata": {},
   "outputs": [],
   "source": [
    "base_final_2 = base_final_1[['FECHA','RUCCOMPANIA','TELEFONO','OWNER','Campaña','TIPO']]\n",
    "base_final_2.to_excel('df_final.xlsx',index = False)"
   ]
  }
 ],
 "metadata": {
  "kernelspec": {
   "display_name": "Python 3",
   "language": "python",
   "name": "python3"
  },
  "language_info": {
   "codemirror_mode": {
    "name": "ipython",
    "version": 3
   },
   "file_extension": ".py",
   "mimetype": "text/x-python",
   "name": "python",
   "nbconvert_exporter": "python",
   "pygments_lexer": "ipython3",
   "version": "3.11.1"
  }
 },
 "nbformat": 4,
 "nbformat_minor": 5
}
